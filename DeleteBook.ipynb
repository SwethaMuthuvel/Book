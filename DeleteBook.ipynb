{
 "cells": [
  {
   "cell_type": "code",
   "execution_count": 1,
   "id": "enormous-moore",
   "metadata": {},
   "outputs": [],
   "source": [
    "from tkinter import *\n",
    "from PIL import ImageTk,Image\n",
    "from tkinter import messagebox\n",
    "import pymysql"
   ]
  },
  {
   "cell_type": "code",
   "execution_count": 3,
   "id": "numerical-praise",
   "metadata": {},
   "outputs": [],
   "source": [
    "mypass = \"root\"\n",
    "mydatabase=\"db\"\n",
    "\n",
    "con = pymysql.connect (host=\"localhost\",user=\"root\",password=\"trio\",database=mydatabase)\n",
    "cur = con.cursor()\n",
    "\n",
    "# Enter Table Names here\n",
    "issueTable = \"books_issued\" \n",
    "bookTable = \"books\" #Book Table"
   ]
  },
  {
   "cell_type": "code",
   "execution_count": 4,
   "id": "derived-appreciation",
   "metadata": {},
   "outputs": [],
   "source": [
    "def deleteBook():\n",
    "    \n",
    "    bid = bookInfo1.get()\n",
    "    \n",
    "    deleteSql = \"delete from \"+bookTable+\" where bid = '\"+bid+\"'\"\n",
    "    deleteIssue = \"delete from \"+issueTable+\" where bid = '\"+bid+\"'\"\n",
    "\n",
    "    try:\n",
    "        cur.execute(deleteSql)\n",
    "        con.commit()\n",
    "        cur.execute(deleteIssue)\n",
    "        con.commit()\n",
    "\n",
    "        messagebox.showinfo('Success',\"Book Record Deleted Successfully\")\n",
    "\n",
    "    except:\n",
    "        messagebox.showinfo(\"Please check Book ID\")\n",
    "    \n",
    "    print(bid)\n",
    "\n",
    "    bookInfo1.delete(0, END)\n",
    "    root.destroy()"
   ]
  },
  {
   "cell_type": "code",
   "execution_count": 5,
   "id": "enhanced-blood",
   "metadata": {},
   "outputs": [],
   "source": [
    "def delete(): \n",
    "    \n",
    "    global bookInfo1,bookInfo2,bookInfo3,bookInfo4,Canvas1,con,cur,bookTable,root\n",
    "    \n",
    "    root = Tk()\n",
    "    root.title(\"Library\")\n",
    "    root.minsize(width=400,height=400)\n",
    "    root.geometry(\"600x500\")\n",
    "\n",
    "\n",
    "    Canvas1 = Canvas(root)\n",
    "    Canvas1.config(bg=\"#006B38\")\n",
    "    Canvas1.pack(expand=True,fill=BOTH)\n",
    "        \n",
    "    headingFrame1 = Frame(root,bg=\"#FFBB00\",bd=5)\n",
    "    headingFrame1.place(relx=0.25,rely=0.1,relwidth=0.5,relheight=0.13)\n",
    "        \n",
    "    headingLabel = Label(headingFrame1, text=\"Delete Book\", bg='black', fg='white', font=('Courier',15))\n",
    "    headingLabel.place(relx=0,rely=0, relwidth=1, relheight=1)\n",
    "    \n",
    "    labelFrame = Frame(root,bg='black')\n",
    "    labelFrame.place(relx=0.1,rely=0.3,relwidth=0.8,relheight=0.5)   \n",
    "        \n",
    "    # Book ID to Delete\n",
    "    lb2 = Label(labelFrame,text=\"Book ID : \", bg='black', fg='white')\n",
    "    lb2.place(relx=0.05,rely=0.5)\n",
    "        \n",
    "    bookInfo1 = Entry(labelFrame)\n",
    "    bookInfo1.place(relx=0.3,rely=0.5, relwidth=0.62)\n",
    "    \n",
    "    #Submit Button\n",
    "    SubmitBtn = Button(root,text=\"SUBMIT\",bg='#d1ccc0', fg='black',command=deleteBook)\n",
    "    SubmitBtn.place(relx=0.28,rely=0.9, relwidth=0.18,relheight=0.08)\n",
    "    \n",
    "    quitBtn = Button(root,text=\"Quit\",bg='#f7f1e3', fg='black', command=root.destroy)\n",
    "    quitBtn.place(relx=0.53,rely=0.9, relwidth=0.18,relheight=0.08)\n",
    "    \n",
    "    root.mainloop()"
   ]
  },
  {
   "cell_type": "code",
   "execution_count": null,
   "id": "separate-buffalo",
   "metadata": {},
   "outputs": [],
   "source": []
  }
 ],
 "metadata": {
  "kernelspec": {
   "display_name": "Python 3",
   "language": "python",
   "name": "python3"
  },
  "language_info": {
   "codemirror_mode": {
    "name": "ipython",
    "version": 3
   },
   "file_extension": ".py",
   "mimetype": "text/x-python",
   "name": "python",
   "nbconvert_exporter": "python",
   "pygments_lexer": "ipython3",
   "version": "3.8.8"
  }
 },
 "nbformat": 4,
 "nbformat_minor": 5
}
