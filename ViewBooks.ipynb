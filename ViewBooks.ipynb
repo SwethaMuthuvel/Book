{
 "cells": [
  {
   "cell_type": "code",
   "execution_count": 4,
   "id": "owned-tulsa",
   "metadata": {},
   "outputs": [],
   "source": [
    "from tkinter import *\n",
    "from PIL import ImageTk,Image\n",
    "from tkinter import messagebox\n",
    "import pymysql"
   ]
  },
  {
   "cell_type": "code",
   "execution_count": 9,
   "id": "champion-frequency",
   "metadata": {},
   "outputs": [],
   "source": [
    "mypass = \"root\"\n",
    "mydatabase=\"db\"\n",
    "\n",
    "con = pymysql.connect( host=\"localhost\",user=\"root\",password=\"trio\",database=mydatabase)\n",
    "cur = con.cursor()\n",
    "\n",
    "# Enter Table Names here\n",
    "bookTable = \"books\" "
   ]
  },
  {
   "cell_type": "code",
   "execution_count": 10,
   "id": "comfortable-player",
   "metadata": {},
   "outputs": [],
   "source": [
    "def View(): \n",
    "    \n",
    "    root = Tk()\n",
    "    root.title(\"Library\")\n",
    "    root.minsize(width=400,height=400)\n",
    "    root.geometry(\"600x500\")\n",
    "\n",
    "    Canvas1 = Canvas(root) \n",
    "    Canvas1.config(bg=\"#12a4d9\")\n",
    "    Canvas1.pack(expand=True,fill=BOTH)\n",
    "\n",
    "    headingFrame1 = Frame(root,bg=\"#FFBB00\",bd=5)\n",
    "    headingFrame1.place(relx=0.25,rely=0.1,relwidth=0.5,relheight=0.13)\n",
    "\n",
    "    headingLabel = Label(headingFrame1, text=\"View Books\", bg='black', fg='white', font = ('Courier',15))\n",
    "\n",
    "    headingLabel.place(relx=0,rely=0, relwidth=1, relheight=1)\n",
    "\n",
    "    labelFrame = Frame(root,bg='black')\n",
    "    labelFrame.place(relx=0.1,rely=0.3,relwidth=0.8,relheight=0.5)\n",
    "    y = 0.25\n",
    "\n",
    "    Label(labelFrame, text=\"%-10s%-40s%-30s%-20s\"%('BID','Title','Author','Status'),\n",
    "    bg='black',fg='white').place(relx=0.07,rely=0.1)\n",
    "    Label(labelFrame, text = \"----------------------------------------------------------------------------\",bg='black',fg='white').place (relx=0.05,rely=0.2)\n",
    "    getBooks = \"select * from \"+bookTable\n",
    "    try:\n",
    "        cur.execute(getBooks)\n",
    "        con.commit()\n",
    "\n",
    "\n",
    "        for i in cur:\n",
    "            Label(labelFrame,text=\"%-10s%-30s%-30s%-20s\"%(i[0],i[1],i[2],i[3]) ,bg='black', fg='white').place(relx=0.07,rely=y)\n",
    "            y += 0.1\n",
    "    except:\n",
    "        messagebox.showinfo(\"Failed to fetch files from database\")\n",
    "    \n",
    "    quitBtn = Button(root,text=\"Quit\",bg='#f7f1e3', fg='black', command=root.destroy)\n",
    "    quitBtn.place(relx=0.4,rely=0.9, relwidth=0.18,relheight=0.08)\n",
    "    \n",
    "    root.mainloop()"
   ]
  },
  {
   "cell_type": "code",
   "execution_count": null,
   "id": "leading-harassment",
   "metadata": {},
   "outputs": [],
   "source": []
  }
 ],
 "metadata": {
  "kernelspec": {
   "display_name": "Python 3",
   "language": "python",
   "name": "python3"
  },
  "language_info": {
   "codemirror_mode": {
    "name": "ipython",
    "version": 3
   },
   "file_extension": ".py",
   "mimetype": "text/x-python",
   "name": "python",
   "nbconvert_exporter": "python",
   "pygments_lexer": "ipython3",
   "version": "3.8.8"
  }
 },
 "nbformat": 4,
 "nbformat_minor": 5
}
